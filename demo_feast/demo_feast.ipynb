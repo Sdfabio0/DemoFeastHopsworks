{
 "cells": [
  {
   "attachments": {},
   "cell_type": "markdown",
   "metadata": {},
   "source": [
    "# Install feast"
   ]
  },
  {
   "cell_type": "code",
   "execution_count": 14,
   "metadata": {},
   "outputs": [
    {
     "name": "stdout",
     "output_type": "stream",
     "text": [
      "Requirement already satisfied: feast==0.29.0 in c:\\users\\fabri\\anaconda3\\lib\\site-packages (0.29.0)\n",
      "Requirement already satisfied: jsonschema in c:\\users\\fabri\\anaconda3\\lib\\site-packages (from feast==0.29.0) (3.2.0)\n",
      "Requirement already satisfied: tqdm<5,>=4 in c:\\users\\fabri\\anaconda3\\lib\\site-packages (from feast==0.29.0) (4.62.3)\n",
      "Requirement already satisfied: httpx>=0.23.3 in c:\\users\\fabri\\appdata\\roaming\\python\\python39\\site-packages (from feast==0.29.0) (0.23.3)\n",
      "Requirement already satisfied: dill~=0.3.0 in c:\\users\\fabri\\anaconda3\\lib\\site-packages (from feast==0.29.0) (0.3.5.1)\n",
      "Requirement already satisfied: SQLAlchemy[mypy]<2,>1 in c:\\users\\fabri\\anaconda3\\lib\\site-packages (from feast==0.29.0) (1.4.22)\n",
      "Requirement already satisfied: Jinja2<4,>=2 in c:\\users\\fabri\\anaconda3\\lib\\site-packages (from feast==0.29.0) (3.0.3)\n",
      "Requirement already satisfied: grpcio-reflection<2,>=1.47.0 in c:\\users\\fabri\\anaconda3\\lib\\site-packages (from feast==0.29.0) (1.51.3)\n",
      "Requirement already satisfied: numpy<3,>=1.22 in c:\\users\\fabri\\anaconda3\\lib\\site-packages (from feast==0.29.0) (1.24.1)\n",
      "Requirement already satisfied: PyYAML<7,>=5.4.0 in c:\\users\\fabri\\anaconda3\\lib\\site-packages (from feast==0.29.0) (6.0)\n",
      "Requirement already satisfied: google-api-core<3,>=1.23.0 in c:\\users\\fabri\\anaconda3\\lib\\site-packages (from feast==0.29.0) (2.8.0)\n",
      "Requirement already satisfied: proto-plus<2,>=1.20.0 in c:\\users\\fabri\\anaconda3\\lib\\site-packages (from feast==0.29.0) (1.22.2)\n"
     ]
    },
    {
     "name": "stderr",
     "output_type": "stream",
     "text": [
      "WARNING: Ignoring invalid distribution -ffi (c:\\users\\fabri\\anaconda3\\lib\\site-packages)\n",
      "WARNING: Ignoring invalid distribution -ffi (c:\\users\\fabri\\anaconda3\\lib\\site-packages)\n",
      "WARNING: Ignoring invalid distribution -ffi (c:\\users\\fabri\\anaconda3\\lib\\site-packages)\n",
      "WARNING: Ignoring invalid distribution -ffi (c:\\users\\fabri\\anaconda3\\lib\\site-packages)\n"
     ]
    },
    {
     "name": "stdout",
     "output_type": "stream",
     "text": [
      "Requirement already satisfied: pandas<2,>=1.4.3 in c:\\users\\fabri\\anaconda3\\lib\\site-packages (from feast==0.29.0) (1.5.1)\n",
      "Requirement already satisfied: grpcio<2,>=1.47.0 in c:\\users\\fabri\\anaconda3\\lib\\site-packages (from feast==0.29.0) (1.51.3)\n",
      "Requirement already satisfied: pydantic<2,>=1 in c:\\users\\fabri\\appdata\\roaming\\python\\python39\\site-packages (from feast==0.29.0) (1.10.4)\n",
      "Requirement already satisfied: mmh3 in c:\\users\\fabri\\anaconda3\\lib\\site-packages (from feast==0.29.0) (3.0.0)\n",
      "Requirement already satisfied: protobuf<5,>3 in c:\\users\\fabri\\anaconda3\\lib\\site-packages (from feast==0.29.0) (4.22.1)\n",
      "Requirement already satisfied: uvicorn[standard]<1,>=0.14.0 in c:\\users\\fabri\\appdata\\roaming\\python\\python39\\site-packages (from feast==0.29.0) (0.20.0)\n",
      "Requirement already satisfied: tenacity<9,>=7 in c:\\users\\fabri\\anaconda3\\lib\\site-packages (from feast==0.29.0) (8.0.1)\n",
      "Requirement already satisfied: googleapis-common-protos<2,>=1.52.0 in c:\\users\\fabri\\anaconda3\\lib\\site-packages (from feast==0.29.0) (1.52.0)\n",
      "Requirement already satisfied: toml<1,>=0.10.0 in c:\\users\\fabri\\anaconda3\\lib\\site-packages (from feast==0.29.0) (0.10.2)\n",
      "Requirement already satisfied: pandavro~=1.5.0 in c:\\users\\fabri\\anaconda3\\lib\\site-packages (from feast==0.29.0) (1.5.2)\n",
      "Requirement already satisfied: tabulate<1,>=0.8.0 in c:\\users\\fabri\\anaconda3\\lib\\site-packages (from feast==0.29.0) (0.8.10)\n",
      "Requirement already satisfied: bowler in c:\\users\\fabri\\anaconda3\\lib\\site-packages (from feast==0.29.0) (0.9.0)\n",
      "Requirement already satisfied: pygments<3,>=2.12.0 in c:\\users\\fabri\\anaconda3\\lib\\site-packages (from feast==0.29.0) (2.14.0)\n",
      "Requirement already satisfied: typeguard in c:\\users\\fabri\\anaconda3\\lib\\site-packages (from feast==0.29.0) (2.13.3)\n",
      "Requirement already satisfied: colorama<1,>=0.3.9 in c:\\users\\fabri\\anaconda3\\lib\\site-packages (from feast==0.29.0) (0.4.4)\n",
      "Requirement already satisfied: fastavro<2,>=1.1.0 in c:\\users\\fabri\\anaconda3\\lib\\site-packages (from feast==0.29.0) (1.7.3)\n",
      "Requirement already satisfied: click<9.0.0,>=7.0.0 in c:\\users\\fabri\\anaconda3\\lib\\site-packages (from feast==0.29.0) (7.1.2)\n",
      "Requirement already satisfied: fastapi<1,>=0.68.0 in c:\\users\\fabri\\appdata\\roaming\\python\\python39\\site-packages (from feast==0.29.0) (0.92.0)\n",
      "Requirement already satisfied: dask>=2021.1.0 in c:\\users\\fabri\\anaconda3\\lib\\site-packages (from feast==0.29.0) (2021.10.0)\n",
      "Requirement already satisfied: pyarrow<9,>=4 in c:\\users\\fabri\\anaconda3\\lib\\site-packages (from feast==0.29.0) (8.0.0)\n",
      "Requirement already satisfied: cloudpickle>=1.1.1 in c:\\users\\fabri\\anaconda3\\lib\\site-packages (from dask>=2021.1.0->feast==0.29.0) (2.0.0)\n",
      "Requirement already satisfied: fsspec>=0.6.0 in c:\\users\\fabri\\anaconda3\\lib\\site-packages (from dask>=2021.1.0->feast==0.29.0) (2022.8.2)\n",
      "Requirement already satisfied: packaging>=20.0 in c:\\users\\fabri\\anaconda3\\lib\\site-packages (from dask>=2021.1.0->feast==0.29.0) (22.0)\n",
      "Requirement already satisfied: partd>=0.3.10 in c:\\users\\fabri\\anaconda3\\lib\\site-packages (from dask>=2021.1.0->feast==0.29.0) (1.2.0)\n",
      "Requirement already satisfied: toolz>=0.8.2 in c:\\users\\fabri\\anaconda3\\lib\\site-packages (from dask>=2021.1.0->feast==0.29.0) (0.11.1)\n",
      "Requirement already satisfied: starlette<0.26.0,>=0.25.0 in c:\\users\\fabri\\appdata\\roaming\\python\\python39\\site-packages (from fastapi<1,>=0.68.0->feast==0.29.0) (0.25.0)\n",
      "Requirement already satisfied: google-auth<3.0dev,>=1.25.0 in c:\\users\\fabri\\anaconda3\\lib\\site-packages (from google-api-core<3,>=1.23.0->feast==0.29.0) (2.6.2)\n",
      "Requirement already satisfied: requests<3.0.0dev,>=2.18.0 in c:\\users\\fabri\\appdata\\roaming\\python\\python39\\site-packages (from google-api-core<3,>=1.23.0->feast==0.29.0) (2.28.2)\n",
      "Requirement already satisfied: certifi in c:\\users\\fabri\\appdata\\roaming\\python\\python39\\site-packages (from httpx>=0.23.3->feast==0.29.0) (2022.12.7)\n",
      "Requirement already satisfied: httpcore<0.17.0,>=0.15.0 in c:\\users\\fabri\\appdata\\roaming\\python\\python39\\site-packages (from httpx>=0.23.3->feast==0.29.0) (0.16.3)\n",
      "Requirement already satisfied: rfc3986[idna2008]<2,>=1.3 in c:\\users\\fabri\\anaconda3\\lib\\site-packages (from httpx>=0.23.3->feast==0.29.0) (1.5.0)\n",
      "Requirement already satisfied: sniffio in c:\\users\\fabri\\anaconda3\\lib\\site-packages (from httpx>=0.23.3->feast==0.29.0) (1.3.0)\n",
      "Requirement already satisfied: MarkupSafe>=2.0 in c:\\users\\fabri\\anaconda3\\lib\\site-packages (from Jinja2<4,>=2->feast==0.29.0) (2.1.1)\n",
      "Requirement already satisfied: python-dateutil>=2.8.1 in c:\\users\\fabri\\anaconda3\\lib\\site-packages (from pandas<2,>=1.4.3->feast==0.29.0) (2.8.2)\n",
      "Requirement already satisfied: pytz>=2020.1 in c:\\users\\fabri\\anaconda3\\lib\\site-packages (from pandas<2,>=1.4.3->feast==0.29.0) (2021.3)\n",
      "Requirement already satisfied: six>=1.9 in c:\\users\\fabri\\anaconda3\\lib\\site-packages (from pandavro~=1.5.0->feast==0.29.0) (1.16.0)\n",
      "Requirement already satisfied: typing-extensions>=4.2.0 in c:\\users\\fabri\\anaconda3\\lib\\site-packages (from pydantic<2,>=1->feast==0.29.0) (4.4.0)\n",
      "Requirement already satisfied: greenlet!=0.4.17 in c:\\users\\fabri\\anaconda3\\lib\\site-packages (from SQLAlchemy[mypy]<2,>1->feast==0.29.0) (1.1.1)\n",
      "Requirement already satisfied: mypy>=0.800 in c:\\users\\fabri\\appdata\\roaming\\python\\python39\\site-packages (from SQLAlchemy[mypy]<2,>1->feast==0.29.0) (1.0.1)\n",
      "Requirement already satisfied: sqlalchemy2-stubs in c:\\users\\fabri\\anaconda3\\lib\\site-packages (from SQLAlchemy[mypy]<2,>1->feast==0.29.0) (0.0.2a32)\n",
      "Requirement already satisfied: h11>=0.8 in c:\\users\\fabri\\anaconda3\\lib\\site-packages (from uvicorn[standard]<1,>=0.14.0->feast==0.29.0) (0.14.0)\n",
      "Requirement already satisfied: httptools>=0.5.0 in c:\\users\\fabri\\anaconda3\\lib\\site-packages (from uvicorn[standard]<1,>=0.14.0->feast==0.29.0) (0.5.0)\n",
      "Requirement already satisfied: python-dotenv>=0.13 in c:\\users\\fabri\\anaconda3\\lib\\site-packages (from uvicorn[standard]<1,>=0.14.0->feast==0.29.0) (0.21.1)\n",
      "Requirement already satisfied: websockets>=10.4 in c:\\users\\fabri\\anaconda3\\lib\\site-packages (from uvicorn[standard]<1,>=0.14.0->feast==0.29.0) (10.4)\n",
      "Requirement already satisfied: watchfiles>=0.13 in c:\\users\\fabri\\anaconda3\\lib\\site-packages (from uvicorn[standard]<1,>=0.14.0->feast==0.29.0) (0.18.1)\n",
      "Requirement already satisfied: fissix in c:\\users\\fabri\\anaconda3\\lib\\site-packages (from bowler->feast==0.29.0) (21.11.13)\n",
      "Requirement already satisfied: volatile in c:\\users\\fabri\\anaconda3\\lib\\site-packages (from bowler->feast==0.29.0) (2.1.0)\n",
      "Requirement already satisfied: moreorless>=0.2.0 in c:\\users\\fabri\\anaconda3\\lib\\site-packages (from bowler->feast==0.29.0) (0.4.0)\n",
      "Requirement already satisfied: attrs in c:\\users\\fabri\\appdata\\roaming\\python\\python39\\site-packages (from bowler->feast==0.29.0) (22.2.0)\n",
      "Requirement already satisfied: pyrsistent>=0.14.0 in c:\\users\\fabri\\anaconda3\\lib\\site-packages (from jsonschema->feast==0.29.0) (0.18.0)\n",
      "Requirement already satisfied: setuptools in c:\\users\\fabri\\anaconda3\\lib\\site-packages (from jsonschema->feast==0.29.0) (58.0.4)\n",
      "Requirement already satisfied: rsa<5,>=3.1.4 in c:\\users\\fabri\\anaconda3\\lib\\site-packages (from google-auth<3.0dev,>=1.25.0->google-api-core<3,>=1.23.0->feast==0.29.0) (4.9)\n",
      "Requirement already satisfied: cachetools<6.0,>=2.0.0 in c:\\users\\fabri\\anaconda3\\lib\\site-packages (from google-auth<3.0dev,>=1.25.0->google-api-core<3,>=1.23.0->feast==0.29.0) (5.0.0)\n",
      "Requirement already satisfied: pyasn1-modules>=0.2.1 in c:\\users\\fabri\\anaconda3\\lib\\site-packages (from google-auth<3.0dev,>=1.25.0->google-api-core<3,>=1.23.0->feast==0.29.0) (0.2.8)\n",
      "Requirement already satisfied: anyio<5.0,>=3.0 in c:\\users\\fabri\\appdata\\roaming\\python\\python39\\site-packages (from httpcore<0.17.0,>=0.15.0->httpx>=0.23.3->feast==0.29.0) (3.6.2)\n",
      "Requirement already satisfied: tomli>=1.1.0 in c:\\users\\fabri\\anaconda3\\lib\\site-packages (from mypy>=0.800->SQLAlchemy[mypy]<2,>1->feast==0.29.0) (2.0.1)\n",
      "Requirement already satisfied: mypy-extensions>=0.4.3 in c:\\users\\fabri\\anaconda3\\lib\\site-packages (from mypy>=0.800->SQLAlchemy[mypy]<2,>1->feast==0.29.0) (0.4.3)\n",
      "Requirement already satisfied: locket in c:\\users\\fabri\\anaconda3\\lib\\site-packages\\locket-0.2.1-py3.9.egg (from partd>=0.3.10->dask>=2021.1.0->feast==0.29.0) (0.2.1)\n",
      "Requirement already satisfied: idna<4,>=2.5 in c:\\users\\fabri\\anaconda3\\lib\\site-packages (from requests<3.0.0dev,>=2.18.0->google-api-core<3,>=1.23.0->feast==0.29.0) (3.4)\n",
      "Requirement already satisfied: charset-normalizer<4,>=2 in c:\\users\\fabri\\appdata\\roaming\\python\\python39\\site-packages (from requests<3.0.0dev,>=2.18.0->google-api-core<3,>=1.23.0->feast==0.29.0) (2.1.1)\n",
      "Requirement already satisfied: urllib3<1.27,>=1.21.1 in c:\\users\\fabri\\appdata\\roaming\\python\\python39\\site-packages (from requests<3.0.0dev,>=2.18.0->google-api-core<3,>=1.23.0->feast==0.29.0) (1.26.13)\n",
      "Requirement already satisfied: appdirs in c:\\users\\fabri\\anaconda3\\lib\\site-packages (from fissix->bowler->feast==0.29.0) (1.4.4)\n",
      "Requirement already satisfied: pyasn1<0.5.0,>=0.4.6 in c:\\users\\fabri\\anaconda3\\lib\\site-packages (from pyasn1-modules>=0.2.1->google-auth<3.0dev,>=1.25.0->google-api-core<3,>=1.23.0->feast==0.29.0) (0.4.8)\n"
     ]
    }
   ],
   "source": [
    "!pip install feast==0.29.0"
   ]
  },
  {
   "attachments": {},
   "cell_type": "markdown",
   "metadata": {},
   "source": [
    "# Initialize the feast project with project name 'my_project'\n"
   ]
  },
  {
   "cell_type": "code",
   "execution_count": 47,
   "metadata": {},
   "outputs": [
    {
     "name": "stdout",
     "output_type": "stream",
     "text": [
      "\n",
      "Creating a new Feast repository in c:\\Users\\fabri\\OneDrive\\Documents\\Demo\\demo_feast\\my_project.\n",
      "\n"
     ]
    }
   ],
   "source": [
    "# create a new project folder for the demo\n",
    "!feast init my_project"
   ]
  },
  {
   "attachments": {},
   "cell_type": "markdown",
   "metadata": {},
   "source": [
    "#### When you go to 'my_project' you can see the file structure:\n"
   ]
  },
  {
   "cell_type": "code",
   "execution_count": null,
   "metadata": {},
   "outputs": [],
   "source": [
    "'''\n",
    "feature_repo\n",
    "├── data \n",
    "│ \t└── driver_stats.csv           ---- sample data\n",
    "    └── online_store.db            ---- online database for low latency serving\n",
    "    └── registry.db                ---- shareable registry database where metadata is stored about the features and entities when they are registered and updated \n",
    "├── example_repo.py \t           ---- definition of the pipeline functions (Feature views)\t \n",
    "\n",
    "└── feature_store.yaml             ---- configuration files (link to databases, connection string) \n",
    "\n",
    "'''"
   ]
  },
  {
   "attachments": {},
   "cell_type": "markdown",
   "metadata": {},
   "source": [
    "#### Create an application using a feast feature store:\n",
    "\n",
    "The application just output data sourced from a feature view.\n",
    "Next, you will make changes in the application by updating an already existing repo and see the changes in the application"
   ]
  },
  {
   "cell_type": "code",
   "execution_count": null,
   "metadata": {},
   "outputs": [],
   "source": [
    "# Install streamlit\n",
    "!pip install streamlit"
   ]
  },
  {
   "attachments": {},
   "cell_type": "markdown",
   "metadata": {},
   "source": [
    "#### Now make change in the example_repo_2.py"
   ]
  },
  {
   "cell_type": "code",
   "execution_count": null,
   "metadata": {},
   "outputs": [],
   "source": [
    "%%writefile my_project/feature_repo/example_repo.py\n",
    "# This is an example feature definition file with changes made to the file\n",
    "import os\n",
    "\n",
    "from datetime import timedelta\n",
    "import pandas as pd\n",
    "from feast import (\n",
    "    Entity,\n",
    "    Field,\n",
    "    FeatureView,\n",
    "    FileSource,\n",
    "    PushSource,\n",
    "    RequestSource,\n",
    ")\n",
    "from pathlib import Path\n",
    "from feast.feature_service import FeatureService\n",
    "from feast.on_demand_feature_view import on_demand_feature_view\n",
    "from feast.types import Int64, Float32, Float64\n",
    "\n",
    "DATA_DIR = Path(os.getcwd(), \"data\")\n",
    "# Define an entity for the driver. You can think of entity as a primary key used to\n",
    "# fetch features.\n",
    "driver = Entity(name=\"driver\", join_keys=[\"driver_id\"])\n",
    "\n",
    "# Read data from parquet files. Parquet is convenient for local development mode. For\n",
    "# production, you can use your favorite DWH, such as BigQuery. See Feast documentation\n",
    "# for more info.\n",
    "driver_stats_source = FileSource(\n",
    "    name=\"driver_hourly_stats_source\",\n",
    "    path=str(Path(DATA_DIR, \"driver_stats.parquet\")),\n",
    "    timestamp_field=\"event_timestamp\",\n",
    "    created_timestamp_column=\"created\",\n",
    ")\n",
    "\n",
    "# Our parquet files contain sample data that includes a driver_id column, timestamps and\n",
    "# three feature column. Here we define a Feature View that will allow us to serve this\n",
    "# data to our model online.\n",
    "driver_stats_fv = FeatureView(\n",
    "    # The unique name of this feature view. Two feature views in a single\n",
    "    # project cannot have the same name\n",
    "    name=\"driver_hourly_stats\",\n",
    "    entities=[driver],\n",
    "    ttl=timedelta(days=1),\n",
    "    # The list of features defined below act as a schema to both define features\n",
    "    # for both materialization of features into a store, and are used as references\n",
    "    # during retrieval for building a training dataset or serving features\n",
    "    schema=[\n",
    "        Field(name=\"conv_rate\", dtype= Float32),\n",
    "        Field(name=\"acc_rate\", dtype= Float32),\n",
    "        Field(name=\"avg_daily_trips\", dtype= Int64),\n",
    "    ],\n",
    "    online=True,\n",
    "    source=driver_stats_source,\n",
    "    # Tags are user defined key/value pairs that are attached to each\n",
    "    # feature view\n",
    "    tags={\"team\": \"driver_performance\"},\n",
    ")\n",
    "\n",
    "# Defines a way to push data (to be available offline, online or both) into Feast.\n",
    "driver_stats_push_source = PushSource(\n",
    "    name=\"driver_stats_push_source\",\n",
    "    batch_source=driver_stats_source,\n",
    ")\n",
    "\n",
    "# Define a request data source which encodes features / information only\n",
    "# available at request time (e.g. part of the user initiated HTTP request)\n",
    "input_request = RequestSource(\n",
    "    name=\"vals_to_add\",\n",
    "    schema=[\n",
    "        Field(name=\"val_to_add\", dtype=Int64),\n",
    "        Field(name=\"val_to_add_2\", dtype=Int64),\n",
    "    ],\n",
    ")\n",
    "\n",
    "\n",
    "# Define an on demand feature view which can generate new features based on\n",
    "# existing feature views and RequestSource features\n",
    "@on_demand_feature_view(\n",
    "    sources=[driver_stats_fv, input_request],\n",
    "    schema=[\n",
    "        Field(name=\"conv_rate_plus_val1\", dtype=Float64),\n",
    "        Field(name=\"conv_rate_plus_val2\", dtype=Float64),\n",
    "    ],\n",
    ")\n",
    "def transformed_conv_rate(inputs: pd.DataFrame) -> pd.DataFrame:\n",
    "    df = pd.DataFrame()\n",
    "    df[\"conv_rate_plus_val1\"] = inputs[\"conv_rate\"] - inputs[\"val_to_add\"]\n",
    "    df[\"conv_rate_plus_val2\"] = inputs[\"conv_rate\"] - inputs[\"val_to_add_2\"]\n",
    "    return df\n",
    "\n",
    "\n",
    "# This groups features into a model version\n",
    "driver_activity_v1 = FeatureService(\n",
    "    name=\"driver_activity_v1\",\n",
    "    features=[\n",
    "        driver_stats_fv[[\"conv_rate\"]],  # Sub-selects a feature from a feature view\n",
    "        transformed_conv_rate,  # Selects all features from the feature view\n",
    "    ],\n",
    ")\n",
    "driver_activity_v2 = FeatureService(\n",
    "    name=\"driver_activity_v2\", features=[driver_stats_fv, transformed_conv_rate]\n",
    ")"
   ]
  },
  {
   "attachments": {},
   "cell_type": "markdown",
   "metadata": {},
   "source": [
    "#### create streamlit visual to see changes you can make on the app"
   ]
  },
  {
   "cell_type": "code",
   "execution_count": 66,
   "metadata": {},
   "outputs": [
    {
     "name": "stderr",
     "output_type": "stream",
     "text": [
      "UsageError: %%writefile is a cell magic, but the cell body is empty.\n"
     ]
    }
   ],
   "source": [
    "%%writefile my_project/streamlit_app.py\n",
    "import pandas as pd\n",
    "import streamlit as st\n",
    "from feast import FeatureStore\n",
    "from datetime import datetime\n",
    "from pathlib import Path\n",
    "import os\n",
    "\n",
    "repo_dir = os.path.abspath(os.path.realpath(__file__)).replace(\"streamlit_app.py\", \"feature_repo\")\n",
    "\n",
    "\n",
    "#define entity_df\n",
    "\n",
    "entity_df = pd.DataFrame.from_dict(\n",
    "    {\n",
    "        # entity's join key -> entity values\n",
    "        \"driver_id\": [1001, 1002, 1003],\n",
    "        # \"event_timestamp\" (reserved key) -> timestamps\n",
    "        \"event_timestamp\": [\n",
    "            datetime(2021, 4, 12, 10, 59, 42),\n",
    "            datetime(2021, 4, 12, 8, 12, 10),\n",
    "            datetime(2021, 4, 12, 16, 40, 26),\n",
    "        ],\n",
    "        # (optional) label name -> label values. Feast does not process these\n",
    "        \"label_driver_reported_satisfaction\": [1, 5, 3],\n",
    "        # values we're using for an on-demand transformation\n",
    "        \"val_to_add\": [1, 2, 3],\n",
    "        \"val_to_add_2\": [10, 20, 30],\n",
    "    }\n",
    ")\n",
    "\n",
    "store = FeatureStore(repo_path=repo_dir)\n",
    "\n",
    "training_df = store.get_historical_features(entity_df=entity_df, features=[\"driver_hourly_stats:conv_rate\",\"driver_hourly_stats:acc_rate\",\"driver_hourly_stats:avg_daily_trips\",\"transformed_conv_rate:conv_rate_plus_val1\",\"transformed_conv_rate:conv_rate_plus_val2\"]).to_df()\n",
    "\n",
    "if st.button(\"Click me\"):\n",
    "    st.write(training_df.head(3))"
   ]
  },
  {
   "cell_type": "code",
   "execution_count": 61,
   "metadata": {},
   "outputs": [
    {
     "name": "stdout",
     "output_type": "stream",
     "text": [
      "Updated feature view driver_hourly_stats\n",
      "\tbatch_source: type: BATCH_FILE\n",
      "timestamp_field: \"datetime\"\n",
      "created_timestamp_column: \"created\"\n",
      "file_options {\n",
      "  uri: \"c:\\\\Users\\\\fabri\\\\OneDrive\\\\Documents\\\\Demo\\\\demo_feast\\\\my_project\\\\feature_repo\\\\data\\\\driver_stats.parquet\"\n",
      "}\n",
      "data_source_class_type: \"feast.infra.offline_stores.file_source.FileSource\""
     ]
    },
    {
     "name": "stderr",
     "output_type": "stream",
     "text": [
      "C:\\Users\\fabri\\anaconda3\\lib\\site-packages\\feast\\feature_store.py:563: RuntimeWarning: On demand feature view is an experimental feature. This API is stable, but the functionality does not scale well for offline retrieval\n",
      "  warnings.warn(\n",
      "C:\\Users\\fabri\\anaconda3\\lib\\site-packages\\feast\\infra\\offline_stores\\file_source.py:161: FutureWarning: 'ParquetDataset.schema' attribute is deprecated as of pyarrow 5.0.0 and will be removed in a future version. Specify 'use_legacy_dataset=False' while constructing the ParquetDataset, and then use the '.schema' attribute instead (which will return an Arrow schema instead of a Parquet schema).\n",
      "  schema = ParquetDataset(path).schema.to_arrow_schema()\n"
     ]
    },
    {
     "name": "stdout",
     "output_type": "stream",
     "text": [
      "\n",
      "name: \"driver_hourly_stats_source\"\n",
      " -> type: BATCH_FILE\n",
      "timestamp_field: \"event_timestamp\"\n",
      "created_timestamp_column: \"created\"\n",
      "file_options {\n",
      "  uri: \"c:\\\\Users\\\\fabri\\\\OneDrive\\\\Documents\\\\Demo\\\\demo_feast\\\\my_project\\\\feature_repo\\\\data\\\\driver_stats.parquet\"\n",
      "}\n",
      "data_source_class_type: \"feast.infra.offline_stores.file_source.FileSource\"\n",
      "name: \"driver_hourly_stats_source\"\n",
      "\n",
      "\n",
      "No changes to infrastructure\n"
     ]
    }
   ],
   "source": [
    "# Submit your changes in the registry of feast\n",
    "!cd my_project/feature_repo && feast apply"
   ]
  },
  {
   "attachments": {},
   "cell_type": "markdown",
   "metadata": {},
   "source": [
    "#### See the changes on the app:"
   ]
  },
  {
   "cell_type": "code",
   "execution_count": 64,
   "metadata": {},
   "outputs": [
    {
     "name": "stdout",
     "output_type": "stream",
     "text": [
      "^C\n"
     ]
    }
   ],
   "source": [
    "# Or locally\n",
    "!streamlit run my_project/streamlit_app.py"
   ]
  }
 ],
 "metadata": {
  "kernelspec": {
   "display_name": "Python 3",
   "language": "python",
   "name": "python3"
  },
  "language_info": {
   "codemirror_mode": {
    "name": "ipython",
    "version": 3
   },
   "file_extension": ".py",
   "mimetype": "text/x-python",
   "name": "python",
   "nbconvert_exporter": "python",
   "pygments_lexer": "ipython3",
   "version": "3.9.7"
  },
  "orig_nbformat": 4,
  "vscode": {
   "interpreter": {
    "hash": "e6d67bf77025d748772b843bcacfdcb5a8247f14740a6d44b4b3ceee657fb5e4"
   }
  }
 },
 "nbformat": 4,
 "nbformat_minor": 2
}
